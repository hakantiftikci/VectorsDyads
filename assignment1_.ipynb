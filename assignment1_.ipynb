{
 "cells": [
  {
   "cell_type": "markdown",
   "id": "e08a9d92-0e0d-44a2-a6b7-e2e820f7b4e9",
   "metadata": {},
   "source": [
    "## (Generalized) Cross Product\n",
    "\n",
    "In n-D, a vector  perpendicular to n-1 vectors is given in (pseudo-)notation \n",
    "by \n",
    "\n",
    "$$\n",
    "\\star\\left(\\mathbf{r}_{1},\\mathbf{r}_{2},\\ldots,\\mathbf{r}_{n-1}\\right)=\n",
    "\\begin{vmatrix}\\mathbf{e}_{1} & \\mathbf{e}_{2} & \\cdots & \\mathbf{e}_{n}\\\\\n",
    "x_{11} & x_{12} &  & x_{1n}\\\\\n",
    "x_{21} & x_{22} &  & x_{2n}\\\\\n",
    "\\vdots &  & \\ddots\\\\\n",
    "x_{n-1,1} & x_{n-1,2} &  & x_{n-1,n}\n",
    "\\end{vmatrix}\n",
    "$$\n",
    "\n",
    "e.g. in 2D\n",
    "\n",
    "$$\n",
    "\\begin{vmatrix}\\mathbf{e}_{1} & \\mathbf{e}_{2}\\\\\n",
    "x & y\n",
    "\\end{vmatrix}=y\\mathbf{e}_{1}-x\\mathbf{e}_{2}\n",
    "$$\n",
    "and 3D\n",
    "\n",
    "$$\n",
    "\\begin{eqnarray*}\n",
    "\\begin{vmatrix}\\mathbf{e}_{1} & \\mathbf{e}_{2} & \\mathbf{e}_{3}\\\\\n",
    "x_{1} & y_{1} & z_{1}\\\\\n",
    "x_{2} & y_{2} & z_{2}\n",
    "\\end{vmatrix} & = & \\mathbf{e}_{1}\\begin{vmatrix}y_{1} & z_{1}\\\\\n",
    "y_{2} & z_{2}\n",
    "\\end{vmatrix}-e_{2}\\begin{vmatrix}x_{1} & z_{1}\\\\\n",
    "x_{2} & z_{2}\n",
    "\\end{vmatrix}+e_{3}\\begin{vmatrix}x_{1} & y_{1}\\\\\n",
    "x_{2} & y_{2}\n",
    "\\end{vmatrix}\\\\\n",
    " & = & \\mathbf{e}_{1}\\left(y_{1}z_{2}-z_{1}y_{2}\\right)-\\mathbf{e}_{2}\\left(x_{1}z_{2}-x_{2}z_{1}\\right)+\\mathbf{e}_{3}\\left(x_{1}y_{2}-x_{2}y_{1}\\right)\n",
    "\\end{eqnarray*}\n",
    "$$"
   ]
  },
  {
   "cell_type": "markdown",
   "id": "23ac41c7-a896-4c1b-9543-3a324133c6ef",
   "metadata": {},
   "source": [
    "**Q1: Implement a function to compute (generalized) cross product for given $n-1$ vectors in $R^n$** (use `numpy.linalg.det` )\n",
    "\n"
   ]
  },
  {
   "cell_type": "code",
   "execution_count": 2,
   "id": "816134b2-4a47-415e-8417-74502afe5462",
   "metadata": {},
   "outputs": [],
   "source": [
    "def CrossNd(V):\n",
    "    \"\"\"\n",
    "    PRE:\n",
    "        - V is a numpy.array of dimension (n,n-1)\n",
    "    POST:\n",
    "        - result is a numpy.array of dimension (n,), orthogonal to all columns of V\n",
    "    \"\"\"\n",
    "    pass"
   ]
  },
  {
   "cell_type": "code",
   "execution_count": 24,
   "id": "725a5f55-9d91-4bfa-8677-98cade895df8",
   "metadata": {},
   "outputs": [],
   "source": [
    "def CrossNd(r):\n",
    "    pass"
   ]
  },
  {
   "cell_type": "markdown",
   "id": "ed0b1a00-54ae-48ab-96c5-91af0e7bd79e",
   "metadata": {},
   "source": [
    "## test case #1 : 2D"
   ]
  },
  {
   "cell_type": "code",
   "execution_count": 25,
   "id": "ac4c00f0-113e-4813-a4b3-b25398a59d14",
   "metadata": {},
   "outputs": [
    {
     "data": {
      "text/plain": [
       "(array([1., 2.]),\n",
       " array([3., 1.]),\n",
       " array([[1., 2.],\n",
       "        [3., 1.]]))"
      ]
     },
     "execution_count": 25,
     "metadata": {},
     "output_type": "execute_result"
    }
   ],
   "source": [
    "v1 = numpy.array([1., 2.])\n",
    "v2 = numpy.array([3., 1.])\n",
    "V = numpy.stack([v1,v2])\n",
    "v1,v2,V"
   ]
  },
  {
   "cell_type": "code",
   "execution_count": 28,
   "id": "7a53267c-d735-487e-9f70-e80edbb745df",
   "metadata": {},
   "outputs": [
    {
     "data": {
      "text/plain": [
       "(array([ 2., -1.]), array([ 1., -3.]))"
      ]
     },
     "execution_count": 28,
     "metadata": {},
     "output_type": "execute_result"
    }
   ],
   "source": [
    "v1o = CrossNd((v1,))\n",
    "v2o = CrossNd((v2,))\n",
    "v1o,v2o"
   ]
  },
  {
   "cell_type": "code",
   "execution_count": 29,
   "id": "29cc42cc-c27a-4c95-b6eb-8ed0726eebb9",
   "metadata": {},
   "outputs": [
    {
     "data": {
      "text/plain": [
       "(0.0, -4.440892098500626e-16)"
      ]
     },
     "execution_count": 29,
     "metadata": {},
     "output_type": "execute_result"
    }
   ],
   "source": [
    "v1 @ v1o, v2 @ v2o"
   ]
  },
  {
   "cell_type": "code",
   "execution_count": 35,
   "id": "66d35874-2172-4fff-b149-573d8b698dc2",
   "metadata": {},
   "outputs": [],
   "source": [
    "assert numpy.abs(v1 @ v1o)<1e-6\n",
    "assert numpy.abs(v2 @ v2o)<1e-6"
   ]
  },
  {
   "cell_type": "markdown",
   "id": "e6de273c-317d-4f18-9dd2-034a0135b497",
   "metadata": {},
   "source": [
    "## test case #2 : 3D"
   ]
  },
  {
   "cell_type": "markdown",
   "id": "a825ab0b-90d9-483a-9e67-45a3ffdac2af",
   "metadata": {},
   "source": [
    "---\n",
    "input vectors"
   ]
  },
  {
   "cell_type": "code",
   "execution_count": 36,
   "id": "f2fd77dd-1a18-46a1-99c6-6f47c0d082c3",
   "metadata": {},
   "outputs": [
    {
     "data": {
      "text/plain": [
       "(array([3. , 1. , 0.5]),\n",
       " array([0.3, 4. , 0.2]),\n",
       " array([0. , 0.4, 2.5]),\n",
       " array([[3. , 1. , 0.5],\n",
       "        [0.3, 4. , 0.2],\n",
       "        [0. , 0.4, 2.5]]))"
      ]
     },
     "execution_count": 36,
     "metadata": {},
     "output_type": "execute_result"
    }
   ],
   "source": [
    "v1 = numpy.array([3.,  1., 0.5])\n",
    "v2 = numpy.array([0.3, 4., 0.2])\n",
    "v3 = numpy.array([0.,  0.4, 2.5])\n",
    "V = numpy.stack([v1,v2,v3])\n",
    "v1,v2,v3,V"
   ]
  },
  {
   "cell_type": "markdown",
   "id": "7e00181a-1ef2-45f4-8cd4-16c7aecb6c9a",
   "metadata": {},
   "source": [
    "---\n",
    "compute orthogonal vectors for pairs (1,2) (2,3) (3,1)"
   ]
  },
  {
   "cell_type": "code",
   "execution_count": 39,
   "id": "f10c985c-18e3-4d79-b5a2-251f67a761e7",
   "metadata": {},
   "outputs": [
    {
     "data": {
      "text/plain": [
       "(array([-1.8 , -0.45, 11.7 ]),\n",
       " array([ 9.92, -0.75,  0.12]),\n",
       " array([-2.3,  7.5, -1.2]))"
      ]
     },
     "execution_count": 39,
     "metadata": {},
     "output_type": "execute_result"
    }
   ],
   "source": [
    "v12o = CrossNd((v1,v2))\n",
    "v23o = CrossNd((v2,v3))\n",
    "v31o = CrossNd((v3,v1))\n",
    "v12o,v23o,v31o"
   ]
  },
  {
   "cell_type": "markdown",
   "id": "6a738cb4-59b2-4f8d-97c6-abbcfe3be5a3",
   "metadata": {},
   "source": [
    "---\n",
    "check orthogonality"
   ]
  },
  {
   "cell_type": "code",
   "execution_count": 40,
   "id": "7f933b9c-b2fa-4ed8-953c-6b3be5c97e6b",
   "metadata": {},
   "outputs": [
    {
     "data": {
      "text/plain": [
       "(0.0, -4.440892098500626e-16)"
      ]
     },
     "execution_count": 40,
     "metadata": {},
     "output_type": "execute_result"
    }
   ],
   "source": [
    "# v12o must be orthogonal to both v1 and v2\n",
    "v12o @ v1, v12o @ v2"
   ]
  },
  {
   "cell_type": "code",
   "execution_count": 41,
   "id": "89237337-ab91-4c1d-b775-14d876e1dfb2",
   "metadata": {},
   "outputs": [
    {
     "data": {
      "text/plain": [
       "(4.2674197509029455e-16, 5.551115123125783e-17)"
      ]
     },
     "execution_count": 41,
     "metadata": {},
     "output_type": "execute_result"
    }
   ],
   "source": [
    "# v23o must be orthogonal to both v2 and v3\n",
    "v23o @ v2, v23o @ v3"
   ]
  },
  {
   "cell_type": "code",
   "execution_count": 42,
   "id": "5a75318a-6b3d-4a81-8b6a-144e02914e51",
   "metadata": {},
   "outputs": [
    {
     "data": {
      "text/plain": [
       "(8.881784197001252e-16, 3.1086244689504383e-15)"
      ]
     },
     "execution_count": 42,
     "metadata": {},
     "output_type": "execute_result"
    }
   ],
   "source": [
    "# v31o must be orthogonal to both v3 and v1\n",
    "v31o @ v3, v31o @ v1"
   ]
  },
  {
   "cell_type": "markdown",
   "id": "8f9c4f15-8b89-438d-a57d-6958b70d9162",
   "metadata": {},
   "source": [
    "# Reciprocal Basis\n",
    "\n",
    "*Basis vectors* $\\mathbf{e}_{i}$ and $\\mathbf{e}^{j}$ are reciprocal if $\\mathbf{e}_{i}\\cdot\\mathbf{e}^{j}=\\delta_{i\\cdot}^{\\cdot j}$ where $\\delta_{i,j}$ is Kronecker delta function"
   ]
  },
  {
   "cell_type": "markdown",
   "id": "f9d88042-3c2c-4f90-9c07-b71e04733341",
   "metadata": {},
   "source": [
    "**Q2: implement** `Reciprocal` **function to return reciprocal basis for a square matrix with basis vectors in columns or list of lists in square form**"
   ]
  },
  {
   "cell_type": "code",
   "execution_count": 43,
   "id": "ba0ca2b4-af02-478b-b1ff-d33a6ebb3fdc",
   "metadata": {},
   "outputs": [],
   "source": [
    "def Reciprocal(V):\n",
    "    \"\"\"\n",
    "    PRE:\n",
    "        - V is square numpy.array or square list of lists\n",
    "    POST:\n",
    "        - function returns reciprocal basis vector\n",
    "    \"\"\"\n",
    "    pass   \n"
   ]
  },
  {
   "cell_type": "code",
   "execution_count": 53,
   "id": "a5181449-17d3-4fdf-8ec0-e9196077b2c3",
   "metadata": {},
   "outputs": [],
   "source": [
    "def Reciprocal(V):\n",
    "    pass"
   ]
  },
  {
   "cell_type": "code",
   "execution_count": 54,
   "id": "295c3ebd-cfc5-4085-830f-6100a9fd7ae6",
   "metadata": {},
   "outputs": [
    {
     "data": {
      "text/plain": [
       "(array([1., 2.]),\n",
       " array([3., 1.]),\n",
       " array([[1., 2.],\n",
       "        [3., 1.]]))"
      ]
     },
     "execution_count": 54,
     "metadata": {},
     "output_type": "execute_result"
    }
   ],
   "source": [
    "v1 = numpy.array([1., 2.])\n",
    "v2 = numpy.array([3., 1.])\n",
    "V = numpy.stack([v1,v2])\n",
    "v1,v2,V"
   ]
  },
  {
   "cell_type": "code",
   "execution_count": 55,
   "id": "9bd6ad8f-21f2-4007-bc95-dae90cb0977f",
   "metadata": {},
   "outputs": [
    {
     "data": {
      "text/plain": [
       "array([[-0.2,  0.4],\n",
       "       [ 0.6, -0.2]])"
      ]
     },
     "execution_count": 55,
     "metadata": {},
     "output_type": "execute_result"
    }
   ],
   "source": [
    "VR = Reciprocal(V)\n",
    "VR"
   ]
  },
  {
   "cell_type": "code",
   "execution_count": 57,
   "id": "4dece020-60ea-4028-8cd3-67f79839ea86",
   "metadata": {},
   "outputs": [
    {
     "data": {
      "text/plain": [
       "array([[1.00000000e+00, 0.00000000e+00],\n",
       "       [1.11022302e-16, 1.00000000e+00]])"
      ]
     },
     "execution_count": 57,
     "metadata": {},
     "output_type": "execute_result"
    }
   ],
   "source": [
    "V @ VR"
   ]
  },
  {
   "cell_type": "code",
   "execution_count": null,
   "id": "c2dee600-0057-434a-8ee8-5b8961e62040",
   "metadata": {},
   "outputs": [],
   "source": []
  }
 ],
 "metadata": {
  "kernelspec": {
   "display_name": "Python 3 (ipykernel)",
   "language": "python",
   "name": "python3"
  },
  "language_info": {
   "codemirror_mode": {
    "name": "ipython",
    "version": 3
   },
   "file_extension": ".py",
   "mimetype": "text/x-python",
   "name": "python",
   "nbconvert_exporter": "python",
   "pygments_lexer": "ipython3",
   "version": "3.9.13"
  }
 },
 "nbformat": 4,
 "nbformat_minor": 5
}
